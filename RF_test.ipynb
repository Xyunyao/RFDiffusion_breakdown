{
 "cells": [
  {
   "cell_type": "markdown",
   "metadata": {},
   "source": [
    "## This note is used to show training in RFDiffusion\n"
   ]
  },
  {
   "cell_type": "code",
   "execution_count": 1,
   "metadata": {},
   "outputs": [
    {
     "name": "stdout",
     "output_type": "stream",
     "text": [
      "PDB file 1UBQ successfully downloaded to pdb_files/1UBQ.pdb\n"
     ]
    },
    {
     "data": {
      "text/plain": [
       "'pdb_files/1UBQ.pdb'"
      ]
     },
     "execution_count": 1,
     "metadata": {},
     "output_type": "execute_result"
    }
   ],
   "source": [
    "# sample a structure from PDB\n",
    "import requests\n",
    "import os\n",
    "\n",
    "def fetch_pdb(pdb_id, save_dir=\"pdb_files\"):\n",
    "    \"\"\"\n",
    "    Fetches a PDB file from the RCSB Protein Data Bank and saves it locally.\n",
    "    \n",
    "    Args:\n",
    "        pdb_id (str): The PDB ID of the structure to fetch (e.g., \"1HHO\").\n",
    "        save_dir (str): Directory to save the PDB file. Default is 'pdb_files'.\n",
    "        \n",
    "    Returns:\n",
    "        str: Path to the saved PDB file, or None if download failed.\n",
    "    \"\"\"\n",
    "    # Ensure the save directory exists\n",
    "    os.makedirs(save_dir, exist_ok=True)\n",
    "    \n",
    "    # Construct the URL for the PDB file\n",
    "    url = f\"https://files.rcsb.org/download/{pdb_id}.pdb\"\n",
    "    save_path = os.path.join(save_dir, f\"{pdb_id}.pdb\")\n",
    "    \n",
    "    try:\n",
    "        # Download the PDB file\n",
    "        response = requests.get(url, stream=True)\n",
    "        response.raise_for_status()  # Raise an HTTPError for bad responses (4xx and 5xx)\n",
    "        \n",
    "        # Write the file to the save directory\n",
    "        with open(save_path, \"wb\") as pdb_file:\n",
    "            for chunk in response.iter_content(chunk_size=1024):\n",
    "                pdb_file.write(chunk)\n",
    "        \n",
    "        print(f\"PDB file {pdb_id} successfully downloaded to {save_path}\")\n",
    "        return save_path\n",
    "    except requests.exceptions.RequestException as e:\n",
    "        print(f\"Failed to download PDB file {pdb_id}: {e}\")\n",
    "        return None\n",
    "\n",
    "# Example usage:\n",
    "pdb_id = \"1UBQ\"  # Replace with your desired PDB ID\n",
    "fetch_pdb(pdb_id)\n"
   ]
  },
  {
   "cell_type": "code",
   "execution_count": 32,
   "metadata": {},
   "outputs": [
    {
     "name": "stdout",
     "output_type": "stream",
     "text": [
      "XYZ Array Shape: torch.Size([76, 3, 3])\n"
     ]
    }
   ],
   "source": [
    "# convert pdb to numpy \n",
    "import numpy as np\n",
    "\n",
    "import numpy as np\n",
    "import torch\n",
    "\n",
    "def pdb_to_xyz_n_ca_c(pdb_file):\n",
    "    \"\"\"\n",
    "    Extracts N, CA, and C atom coordinates from a PDB file and converts them to a NumPy array.\n",
    "    \n",
    "    Args:\n",
    "        pdb_file (str): Path to the PDB file.\n",
    "        \n",
    "    Returns:\n",
    "        np.ndarray: A NumPy array with shape (N, 3), where N is the number of selected atoms.\n",
    "                    Each row contains [x, y, z] coordinates for N, CA, and C atoms.\n",
    "    \"\"\"\n",
    "    coordinates = []\n",
    "    \n",
    "    with open(pdb_file, 'r') as file:\n",
    "        for line in file:\n",
    "            if line.startswith(\"ATOM\") or line.startswith(\"HETATM\"):\n",
    "                atom_name = line[12:16].strip()  # Extract atom name (columns 13-16)\n",
    "                if atom_name in {\"N\", \"CA\", \"C\"}:\n",
    "                    # Extract x, y, z coordinates from columns 31-38, 39-46, 47-54 (1-indexed)\n",
    "                    x = float(line[30:38].strip())\n",
    "                    y = float(line[38:46].strip())\n",
    "                    z = float(line[46:54].strip())\n",
    "                    coordinates.append([x, y, z])\n",
    "    \n",
    "    # Convert list of coordinates to a NumPy array\n",
    "    xyz_array = np.array(coordinates)\n",
    "    return xyz_array\n",
    "\n",
    "# Example usage:\n",
    "pdb_file_path = 'pdb_files/1UBQ.pdb'  # Replace with the path to your PDB file\n",
    "arr = pdb_to_xyz_n_ca_c(pdb_file_path)\n",
    "\n",
    "# Reshaping the array to shape (n, 3, 3)\n",
    "xyz = torch.tensor(arr)\n",
    "\n",
    "# Reshape the tensor to shape (228//3, 3, 3)\n",
    "xyz =xyz.view(-1, 3, 3)\n",
    "\n",
    "# Print or save the resulting XYZ array\n",
    "print(\"XYZ Array Shape:\", xyz.shape)\n",
    "#print(xyz_array)\n",
    "\n"
   ]
  },
  {
   "cell_type": "code",
   "execution_count": 5,
   "metadata": {},
   "outputs": [],
   "source": [
    "import sys\n",
    "sys.path.append('/home/yunyao/RFdiffusion/rfdiffusion')\n",
    "\n",
    "from util import rigid_from_3_points"
   ]
  },
  {
   "cell_type": "code",
   "execution_count": 33,
   "metadata": {},
   "outputs": [
    {
     "name": "stdout",
     "output_type": "stream",
     "text": [
      "torch.Size([76, 3, 3]) torch.Size([76, 3])\n"
     ]
    }
   ],
   "source": [
    "# extract ca and r0 as ground truth\n",
    "#xyz = xyz - xyz[:, 1, :].mean(dim=0)\n",
    "xyz = xyz - xyz[:, 1, :].mean(dim=0)\n",
    "\n",
    "if torch.is_tensor(xyz):\n",
    "        xyz = xyz.numpy()\n",
    "N = torch.from_numpy(xyz[None, :, 0, :])\n",
    "Ca = torch.from_numpy(xyz[None, :, 1, :])  # [1, num_res, 3, 3]\n",
    "C = torch.from_numpy(xyz[None, :, 2, :])\n",
    "\n",
    "# scipy rotation object for true coordinates\n",
    "R_true, Ca = rigid_from_3_points(N, Ca, C)\n",
    "R_true = R_true[0]\n",
    "Ca = Ca[0]\n",
    "\n",
    "#xyz = xyz - xyz[:, 1, :].mean()  # center the protein to origin\n",
    "print(R_true.shape, Ca.shape)\n"
   ]
  },
  {
   "cell_type": "code",
   "execution_count": null,
   "metadata": {},
   "outputs": [],
   "source": [
    "from diffusion import IGSO3\n",
    "\n",
    "T=200\n",
    "min_sigma=0\n",
    "max_sigma=1\n",
    "min_b=0\n",
    "max_b=1\n",
    "cache_dir='./cache'\n",
    "\n",
    "# rotation noise linear schedulear sigma(t) = sigma_min + (t/T)*beta_min + 1/2(t/T)^2(beta_max-beta_min)\n",
    "# sigma_min = 0.02, beta_min =1.06  beta_max=1.77\n",
    "# rotation noise log schedular  log(sigma(t))= logsigma_min + t/T * (log(sigma_max)-log(sigma_min))\n",
    "\n",
    "# in the SI, it seems the linear one is used and max_sigma is not used\n",
    "test = IGSO3(T=T,\n",
    "        min_sigma=0.02,\n",
    "        max_sigma=1,\n",
    "        min_b=1.06,\n",
    "        max_b=1.77,\n",
    "        cache_dir=cache_dir,\n",
    "        num_omega=1000,\n",
    "        schedule=\"linear\",\n",
    "        L=2000)"
   ]
  },
  {
   "cell_type": "code",
   "execution_count": 22,
   "metadata": {},
   "outputs": [
    {
     "name": "stdout",
     "output_type": "stream",
     "text": [
      "(500, 1000)\n"
     ]
    }
   ],
   "source": [
    "# now visulaization  rotatio noise schedule\n",
    "print(test.igso3_vals['cdf'].shape)  #(num_sigma,  num_omega)\n",
    "#test.igso3_vals.keys()\n",
    "#test.igso3_vals['discrete_sigma'].shape\n",
    "#test.igso3_vals['discrete_omega'].shape\n"
   ]
  },
  {
   "cell_type": "code",
   "execution_count": null,
   "metadata": {},
   "outputs": [
    {
     "data": {
      "text/plain": [
       "[<matplotlib.lines.Line2D at 0x7f5df38a84f0>]"
      ]
     },
     "execution_count": 21,
     "metadata": {},
     "output_type": "execute_result"
    },
    {
     "data": {
      "image/png": "[encoded data removed]",
      "text/plain": [
       "<Figure size 640x480 with 1 Axes>"
      ]
     },
     "metadata": {},
     "output_type": "display_data"
    }
   ],
   "source": [
    "test.discrete_sigma\n",
    "import matplotlib.pyplot as plt\n",
    "plt.plot(test.discrete_sigma)  # agree with sigma(t) = sigma_min + (t/T)*beta_min + 1/2(t/T)^2(beta_max-beta_min)"
   ]
  },
  {
   "cell_type": "code",
   "execution_count": 26,
   "metadata": {},
   "outputs": [
    {
     "data": {
      "text/plain": [
       "tensor(1.1602)"
      ]
     },
     "execution_count": 26,
     "metadata": {},
     "output_type": "execute_result"
    }
   ],
   "source": [
    "# g(t)= d/dt( sigma(t)^2)\n",
    "test.g(0.4)"
   ]
  },
  {
   "cell_type": "code",
   "execution_count": 28,
   "metadata": {},
   "outputs": [],
   "source": [
    "# import the translation diffuser\n",
    "from diffusion import EuclideanDiffuser\n",
    "# translation noise schedular beta(t) = beta_min + (beta_max-beta_min)*t/T\n",
    "# in the paper beta_max=0.07, beta_min=0.01\n",
    "trans_test=EuclideanDiffuser(T=T,\n",
    "        b_0=0.01,\n",
    "        b_T=0.07,\n",
    "        schedule_type=\"linear\")"
   ]
  },
  {
   "cell_type": "code",
   "execution_count": null,
   "metadata": {},
   "outputs": [
    {
     "name": "stdout",
     "output_type": "stream",
     "text": [
      "torch.Size([76, 200, 3, 3])\n",
      "torch.Size([76, 200, 3])\n"
     ]
    }
   ],
   "source": [
    "# now perturb the structure one translation one rotation\n",
    "diffused_T, deltas = trans_test.diffuse_translations(\n",
    "            torch.tensor(xyz[:, :3, :]).clone(), diffusion_mask=None\n",
    "        )\n",
    "print(diffused_T.shape)\n",
    "print(deltas.shape) # ca cooridnate difference\n"
   ]
  },
  {
   "cell_type": "code",
   "execution_count": 38,
   "metadata": {},
   "outputs": [],
   "source": [
    "diffused_frame_crds, diffused_frames = test.diffuse_frames(\n",
    "           torch.tensor(xyz[:, :3, :]).clone(), diffusion_mask=None, t_list=None\n",
    "        )"
   ]
  },
  {
   "cell_type": "code",
   "execution_count": 39,
   "metadata": {},
   "outputs": [
    {
     "name": "stdout",
     "output_type": "stream",
     "text": [
      "(76, 200, 3, 3)\n"
     ]
    }
   ],
   "source": [
    "print(diffused_frame_crds.shape)"
   ]
  }
 ],
 "metadata": {
  "kernelspec": {
   "display_name": "SE3nv",
   "language": "python",
   "name": "python3"
  },
  "language_info": {
   "codemirror_mode": {
    "name": "ipython",
    "version": 3
   },
   "file_extension": ".py",
   "mimetype": "text/x-python",
   "name": "python",
   "nbconvert_exporter": "python",
   "pygments_lexer": "ipython3",
   "version": "3.9.21"
  }
 },
 "nbformat": 4,
 "nbformat_minor": 2
}
