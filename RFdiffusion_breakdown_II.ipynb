{
 "cells": [
  {
   "cell_type": "markdown",
   "metadata": {},
   "source": [
    "# RFDiffusion Breakdown Part II\n",
    "diffusion part \n",
    "general procedue\n",
    "1. take X0 ~ P(x0) \n",
    "2. sample t ~(0, T)\n",
    "3. sample noise ~ Gaussian distribution N(0, I)\n",
    "4. use scheduler to generate beta values, alpha values and alpha bar values (fixed not trainable)\n",
    "5. get xt = sqrt(alpah_t_bar)X0 + sqrt(1-alpha_t_bar)*noise\n",
    "6. for training we build a model taking xt and t as input to predict noise : minimize ||noise -model(xt, t)||"
   ]
  },
  {
   "cell_type": "code",
   "execution_count": 3,
   "metadata": {},
   "outputs": [
    {
     "name": "stdout",
     "output_type": "stream",
     "text": [
      "tensor([0.0000, 0.5714, 1.1429, 1.7143, 2.2857, 2.8571, 3.4286, 4.0000, 4.5714,\n",
      "        5.1429, 5.7143, 6.2857, 6.8571, 7.4286, 8.0000])\n",
      "tensor([ 1.0000,  0.4286, -0.1429, -0.7143, -1.2857, -1.8571, -2.4286, -3.0000,\n",
      "        -3.5714, -4.1429, -4.7143, -5.2857, -5.8571, -6.4286, -7.0000])\n",
      "tensor([ 1.0000e+00,  4.2857e-01, -6.1225e-02,  4.3732e-02, -5.6227e-02,\n",
      "         1.0442e-01, -2.5359e-01,  7.6078e-01, -2.7171e+00,  1.1256e+01,\n",
      "        -5.3066e+01,  2.8049e+02, -1.6429e+03,  1.0561e+04, -7.3930e+04])\n"
     ]
    }
   ],
   "source": [
    "# Look at schduler in RFDiffusion (a linear one)\n",
    "import torch\n",
    "def get_beta_schedule(T, b0, bT, schedule_type, schedule_params={}, inference=False):\n",
    "    \"\"\"\n",
    "    Given a noise schedule type, create the beta schedule\n",
    "    \"\"\"\n",
    "    assert schedule_type in [\"linear\"]\n",
    "\n",
    "    # Adjust b0 and bT if T is not 200\n",
    "    # This is a good approximation, with the beta correction below, unless T is very small\n",
    "    assert T >= 15, \"With discrete time and T < 15, the schedule is badly approximated\"\n",
    "    b0 *= 200 / T\n",
    "    bT *= 200 / T\n",
    "\n",
    "    # linear noise schedule\n",
    "    if schedule_type == \"linear\":\n",
    "        schedule = torch.linspace(b0, bT, T)\n",
    "\n",
    "    else:\n",
    "        raise NotImplementedError(f\"Schedule of type {schedule_type} not implemented.\")\n",
    "\n",
    "    # get alphabar_t for convenience\n",
    "    alpha_schedule = 1 - schedule\n",
    "    alphabar_t_schedule = torch.cumprod(alpha_schedule, dim=0)\n",
    "\n",
    "    if inference:\n",
    "        print(\n",
    "            f\"With this beta schedule ({schedule_type} schedule, beta_0 = {round(b0, 3)}, beta_T = {round(bT,3)}), alpha_bar_T = {alphabar_t_schedule[-1]}\"\n",
    "        )\n",
    "\n",
    "    return schedule, alpha_schedule, alphabar_t_schedule\n",
    "\n",
    "# an simple exmple 15 is used for T for visualization purpose\n",
    "schedule, alpha_schedule, alphabar_t_schedule =get_beta_schedule(15, 0, 0.6, schedule_type=\"linear\")\n",
    "print(schedule)  # beta\n",
    "print(alpha_schedule) # 1-beta\n",
    "print(alphabar_t_schedule) # cumulative multiplication of (1-beta)"
   ]
  },
  {
   "cell_type": "markdown",
   "metadata": {},
   "source": [
    "## ADDING NOISE TO CA (translaiton noise)"
   ]
  },
  {
   "cell_type": "code",
   "execution_count": 5,
   "metadata": {},
   "outputs": [],
   "source": [
    "# add noise step\n",
    "# in RFDiffusion, instead of calculating xt = sqrt(alpah_t_bar)X0 + sqrt(1-alpha_t_bar)*noise, \n",
    "#it calcualte recursively for all t value based on xt = xt-1*sqrt(1-beta_t)+ noise* sqrt(beata_t)\n",
    "# RUN ONE TIME\n",
    "def apply_kernel(self, x, t, diffusion_mask=None, var_scale=1):\n",
    "        \"\"\"\n",
    "        Applies a noising kernel to the points in x\n",
    "\n",
    "        Parameters:\n",
    "            x (torch.tensor, required): (N,3,3) set of backbone coordinates\n",
    "\n",
    "            t (int, required): Which timestep\n",
    "\n",
    "            noise_scale (float, required): scale for noise\n",
    "        \"\"\"\n",
    "        t_idx = t - 1  # bring from 1-indexed to 0-indexed\n",
    "\n",
    "        assert len(x.shape) == 3\n",
    "        L, _, _ = x.shape\n",
    "\n",
    "        # c-alpha crds\n",
    "        ca_xyz = x[:, 1, :]\n",
    "\n",
    "        b_t = schedule[t_idx]\n",
    "\n",
    "        # get the noise at timestep t\n",
    "        mean = torch.sqrt(1 - b_t) * ca_xyz\n",
    "        var = torch.ones(L, 3) * (b_t) * var_scale\n",
    "\n",
    "        sampled_crds = torch.normal(mean, torch.sqrt(var)) # equal to xt = xt-1*sqrt(1-beta_t)+ noise* sqrt(beata_t)\n",
    "        delta = sampled_crds - ca_xyz # calcualte added noise [B,L,3]\n",
    "\n",
    "        if not diffusion_mask is None:\n",
    "            delta[diffusion_mask, ...] = 0\n",
    "\n",
    "        out_crds = x + delta[:, None, :] # apply to all atoms N CA O\n",
    "\n",
    "        return out_crds, delta\n",
    "\n",
    "# RUN RECURSIVELY\n",
    "def apply_kernel_recursive(self, xyz, diffusion_mask=None, var_scale=1):\n",
    "    \"\"\"\n",
    "    Repeatedly apply self.apply_kernel T times and return all crds\n",
    "    \"\"\"\n",
    "    bb_stack = [] # save a series of crds with noises\n",
    "    T_stack = [] # save noise\n",
    "\n",
    "    cur_xyz = torch.clone(xyz)\n",
    "\n",
    "    for t in range(1, self.T + 1):\n",
    "        cur_xyz, cur_T = self.apply_kernel(\n",
    "            cur_xyz, t, var_scale=var_scale, diffusion_mask=diffusion_mask\n",
    "        )\n",
    "        bb_stack.append(cur_xyz)\n",
    "        T_stack.append(cur_T)\n",
    "\n",
    "    return torch.stack(bb_stack).transpose(0, 1), torch.stack(T_stack).transpose(\n",
    "        0, 1\n",
    "    )\n"
   ]
  },
  {
   "cell_type": "markdown",
   "metadata": {},
   "source": [
    "## Add Noise to orientation (torsion noise)"
   ]
  },
  {
   "cell_type": "code",
   "execution_count": 9,
   "metadata": {},
   "outputs": [
    {
     "name": "stdout",
     "output_type": "stream",
     "text": [
      "Quaternion (scipy): [0.04970884 0.09941769 0.14912653 0.98255098]\n",
      "Rotation matrix (scipy): [[ 0.9357548  -0.28316496  0.21019171]\n",
      " [ 0.30293271  0.95058062 -0.06803132]\n",
      " [-0.18054008  0.12733457  0.97529031]]\n",
      "Euler angle(scipy): [ 0.6142729   0.22276503 -0.31302232]\n"
     ]
    }
   ],
   "source": [
    "from scipy.spatial.transform import Rotation as R\n",
    "import numpy as np\n",
    "\n",
    "# different ways to represent rotation and covnertion\n",
    "rotation_vector = np.array([0.1, 0.2, 0.3])\n",
    "quaternion_scipy = R.from_rotvec(rotation_vector).as_quat()\n",
    "rmatrix_scipy = R.from_rotvec(rotation_vector).as_matrix()\n",
    "euler_scipy = R.from_rotvec(rotation_vector).as_euler('zyz')\n",
    "\n",
    "print(\"Quaternion (scipy):\", quaternion_scipy)\n",
    "print(\"Rotation matrix (scipy):\", rmatrix_scipy)\n",
    "print(\"Euler angle(scipy):\", euler_scipy)"
   ]
  },
  {
   "cell_type": "code",
   "execution_count": null,
   "metadata": {},
   "outputs": [],
   "source": [
    "# in RFDiffusion, rotation vector is used and map to so(3) and SO(3)\n",
    "# READ this paper: https://openreview.net/pdf?id=BY88eBbkpe5\n"
   ]
  },
  {
   "cell_type": "code",
   "execution_count": null,
   "metadata": {},
   "outputs": [
    {
     "data": {
      "image/png": "[encoded data removed]",
      "text/plain": [
       "<Figure size 800x500 with 1 Axes>"
      ]
     },
     "metadata": {},
     "output_type": "display_data"
    }
   ],
   "source": [
    "# a visualization of distribution function of w (rotation angle of a rotaion axis) in istropic guassian distribution\n",
    "# eq 5 in above paper\n",
    "import numpy as np\n",
    "import matplotlib.pyplot as plt\n",
    "\n",
    "# Define the function\n",
    "def f(omega, epsilon=0.1, l_max=50):\n",
    "    result = (1 - np.cos(omega)) / np.pi\n",
    "    summation = 0\n",
    "    for l in range(l_max + 1):\n",
    "        term = (2 * l + 1) * np.exp(-l * (l + 1) * epsilon**2)\n",
    "        term *= np.sin((l + 0.5) * omega) / np.sin(omega / 2)\n",
    "        summation += term\n",
    "    return result * summation\n",
    "\n",
    "# Range of omega values\n",
    "omega_values = np.linspace(0.01, np.pi, 500)  # Avoid division by zero at omega=0\n",
    "epsilon = 0.1  # Small parameter\n",
    "l_max = 50     # Truncation limit for the summation\n",
    "\n",
    "# Compute f(omega) for the range of omega values\n",
    "f_values = [f(omega, epsilon, l_max) for omega in omega_values]\n",
    "\n",
    "# Plot the function\n",
    "plt.figure(figsize=(8, 5))\n",
    "plt.plot(omega_values, f_values, label=r\"$f(\\omega)$\")\n",
    "plt.xlabel(r\"$\\omega$\", fontsize=14)\n",
    "plt.ylabel(r\"$f(\\omega)$\", fontsize=14)\n",
    "plt.title(\"Visualization of $f(\\omega)$\", fontsize=16)\n",
    "plt.legend(fontsize=12)\n",
    "plt.grid(alpha=0.3)\n",
    "plt.show()\n"
   ]
  },
  {
   "cell_type": "code",
   "execution_count": 13,
   "metadata": {},
   "outputs": [],
   "source": [
    "# in RFDiffusion an approximation is used\n",
    "L_default = 2000\n",
    "def f_igso3(omega, t, L=L_default):\n",
    "    \"\"\"Truncated sum of IGSO(3) distribution.\n",
    "\n",
    "    This function approximates the power series in equation 5 of\n",
    "    \"DENOISING DIFFUSION PROBABILISTIC MODELS ON SO(3) FOR ROTATIONAL\n",
    "    ALIGNMENT\"\n",
    "    Leach et al. 2022\n",
    "\n",
    "    This expression diverges from the expression in Leach in that here, sigma =\n",
    "    sqrt(2) * eps, if eps_leach were the scale parameter of the IGSO(3).\n",
    "\n",
    "    With this reparameterization, IGSO(3) agrees with the Brownian motion on\n",
    "    SO(3) with t=sigma^2 when defined for the canonical inner product on SO3,\n",
    "    <u, v>_SO3 = Trace(u v^T)/2\n",
    "\n",
    "    Args:\n",
    "        omega: i.e. the angle of rotation associated with rotation matrix\n",
    "        t: variance parameter of IGSO(3), maps onto time in Brownian motion\n",
    "        L: Truncation level\n",
    "    \"\"\"\n",
    "    ls = torch.arange(L)[None]  # of shape [1, L]\n",
    "    return ((2*ls + 1) * torch.exp(-ls*(ls+1)*t/2) *\n",
    "             torch.sin(omega[:, None]*(ls+1/2)) / torch.sin(omega[:, None]/2)).sum(dim=-1)"
   ]
  },
  {
   "cell_type": "code",
   "execution_count": 17,
   "metadata": {},
   "outputs": [
    {
     "data": {
      "image/png": "[encoded data removed]",
      "text/plain": [
       "<Figure size 800x600 with 1 Axes>"
      ]
     },
     "metadata": {},
     "output_type": "display_data"
    }
   ],
   "source": [
    "# visualization\n",
    "omega = np.linspace(0.01, np.pi, 500)  # Avoid zero to prevent division by zero\n",
    "t = 0.1  # Example variance parameter\n",
    "\n",
    "# Define the function f_igso3 as described\n",
    "def f_igso3(omega, t, L=2000):\n",
    "    ls = torch.arange(L)[None]  # of shape [1, L]\n",
    "    omega = torch.tensor(omega, dtype=torch.float32)\n",
    "    return ((2 * ls + 1) * torch.exp(-ls * (ls + 1) * t / 2) *\n",
    "            torch.sin(omega[:, None] * (ls + 1 / 2)) / torch.sin(omega[:, None] / 2)).sum(dim=-1).numpy()\n",
    "\n",
    "\n",
    "# Evaluate the function\n",
    "f_values = f_igso3(omega, t)\n",
    "\n",
    "# Plot the result\n",
    "plt.figure(figsize=(8, 6))\n",
    "plt.plot(omega, f_values, label=f\"t={t}\")\n",
    "plt.xlabel(r'$\\omega$ (angle of rotation)', fontsize=12)\n",
    "plt.ylabel(r'$f(\\omega)$', fontsize=12)\n",
    "plt.title(\"IGSO(3) Distribution Function Visualization\", fontsize=14)\n",
    "plt.legend()\n",
    "plt.grid()\n",
    "plt.show()"
   ]
  },
  {
   "cell_type": "code",
   "execution_count": 4,
   "metadata": {},
   "outputs": [
    {
     "data": {
      "text/plain": [
       "tensor([[[ 0.0000, -0.3000,  0.2000],\n",
       "         [ 0.3000,  0.0000, -0.1000],\n",
       "         [-0.2000,  0.1000,  0.0000]]])"
      ]
     },
     "execution_count": 4,
     "metadata": {},
     "output_type": "execute_result"
    }
   ],
   "source": [
    "# convertion of Lie algebra so3 and Lie group SO3\n",
    "# rotation vector (R^3)<-> so3 <-> rotation matrix SO3 \n",
    "# so3 is flat and linear space, therefore, we operate on so3 first then project back to SO3 or R3\n",
    "\n",
    "# convertion between rotation vector to so3\n",
    "import torch\n",
    "def hat(v):\n",
    "    hat_v = torch.zeros([v.shape[0], 3, 3])\n",
    "    hat_v[:, 0, 1], hat_v[:, 0, 2], hat_v[:, 1, 2] = -v[:, 2], v[:, 1], -v[:, 0]\n",
    "    return hat_v + -hat_v.transpose(2, 1)\n",
    "# v is a rotation vector ||v|| is ration angle v/||v|| is rotation axis\n",
    "v=[[0.1, 0.2, 0.3]]\n",
    "hat(torch.tensor(v))"
   ]
  },
  {
   "cell_type": "code",
   "execution_count": 5,
   "metadata": {},
   "outputs": [],
   "source": [
    "from scipy.spatial.transform import Rotation\n",
    "# Logarithmic map from SO(3) to R^3 (i.e. rotation vector)\n",
    "def Log(R): return torch.tensor(Rotation.from_matrix(R.numpy()).as_rotvec())\n",
    "\n",
    "# logarithmic map from SO(3) to so(3), this is the matrix logarithm\n",
    "def log(R): return hat(Log(R))\n"
   ]
  },
  {
   "cell_type": "code",
   "execution_count": 11,
   "metadata": {},
   "outputs": [
    {
     "name": "stdout",
     "output_type": "stream",
     "text": [
      "Rotation Matrix:\n",
      "tensor([[[ 0.2378,  0.1969,  0.9512],\n",
      "         [-0.4479,  0.8912, -0.0725],\n",
      "         [-0.8619, -0.4088,  0.3001]]], dtype=torch.float64)\n",
      "[tensor([[[ 0.0000,  0.4471,  1.2573],\n",
      "         [-0.4471,  0.0000,  0.2332],\n",
      "         [-1.2573, -0.2332,  0.0000]]])]\n"
     ]
    }
   ],
   "source": [
    "# testing \n",
    "\n",
    "# first generate a rotation matrix\n",
    "import numpy as np\n",
    "\n",
    "def generate_rotation_matrix():\n",
    "    # Generate a random unit vector (axis of rotation)\n",
    "    axis = np.random.randn(3)\n",
    "    axis /= np.linalg.norm(axis)\n",
    "    \n",
    "    # Generate a random rotation angle in radians\n",
    "    angle = np.random.uniform(0, 2 * np.pi)\n",
    "    \n",
    "    # Compute the components of the rotation matrix using the axis-angle formula\n",
    "    cos_theta = np.cos(angle)\n",
    "    sin_theta = np.sin(angle)\n",
    "    ux, uy, uz = axis\n",
    "    \n",
    "    # Construct the rotation matrix\n",
    "    rotation_matrix = np.array([\n",
    "        [cos_theta + ux**2 * (1 - cos_theta),       ux * uy * (1 - cos_theta) - uz * sin_theta, ux * uz * (1 - cos_theta) + uy * sin_theta],\n",
    "        [uy * ux * (1 - cos_theta) + uz * sin_theta, cos_theta + uy**2 * (1 - cos_theta),       uy * uz * (1 - cos_theta) - ux * sin_theta],\n",
    "        [uz * ux * (1 - cos_theta) - uy * sin_theta, uz * uy * (1 - cos_theta) + ux * sin_theta, cos_theta + uz**2 * (1 - cos_theta)]\n",
    "    ])\n",
    "    \n",
    "    return torch.tensor([rotation_matrix])\n",
    "\n",
    "# Generate a random rotation matrix\n",
    "rotation_matrix = generate_rotation_matrix()\n",
    "print(\"Rotation Matrix:\")\n",
    "print(rotation_matrix)\n",
    "\n",
    "y1= log(rotation_matrix)\n",
    "print([y1])\n"
   ]
  },
  {
   "cell_type": "code",
   "execution_count": 12,
   "metadata": {},
   "outputs": [],
   "source": [
    "# map from vector space  to SO(3), this is the matrix\n",
    "def Exp(A): return torch.tensor(Rotation.from_rotvec(A.numpy()).as_matrix())\n",
    "\n",
    "# Angle of rotation SO(3) to R^+ (scaler the rotation angle ||v||)\n",
    "def Omega(R): return np.linalg.norm(log(R), axis=[-2, -1])/np.sqrt(2.)\n"
   ]
  },
  {
   "cell_type": "code",
   "execution_count": 14,
   "metadata": {},
   "outputs": [],
   "source": [
    "# PDF of omega in various form\n",
    "\n",
    "# CDF of log_f\n",
    "L_default=200\n",
    "def d_logf_d_omega(omega, t, L=L_default):\n",
    "    omega = torch.tensor(omega, requires_grad=True)\n",
    "    log_f = torch.log(f_igso3(omega, t, L))\n",
    "    return torch.autograd.grad(log_f.sum(), omega)[0].numpy()\n",
    "\n",
    "# IGSO3 density with respect to the volume form on SO(3)\n",
    "def igso3_density(Rt, t, L=L_default):\n",
    "    return f_igso3(torch.tensor(Omega(Rt)), t, L).numpy()\n",
    "# IGSO3 density (pdf) in omega (eq 5)\n",
    "def igso3_density_angle(omega, t, L=L_default): \n",
    "    return f_igso3(torch.tensor(omega), t, L).numpy()*(1-np.cos(omega))/np.pi\n"
   ]
  },
  {
   "cell_type": "code",
   "execution_count": null,
   "metadata": {},
   "outputs": [],
   "source": []
  }
 ],
 "metadata": {
  "kernelspec": {
   "display_name": "SE3nv",
   "language": "python",
   "name": "python3"
  },
  "language_info": {
   "codemirror_mode": {
    "name": "ipython",
    "version": 3
   },
   "file_extension": ".py",
   "mimetype": "text/x-python",
   "name": "python",
   "nbconvert_exporter": "python",
   "pygments_lexer": "ipython3",
   "version": "3.9.21"
  }
 },
 "nbformat": 4,
 "nbformat_minor": 2
}
